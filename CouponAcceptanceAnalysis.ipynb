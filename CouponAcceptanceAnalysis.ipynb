{
  "cells": [
    {
      "cell_type": "markdown",
      "metadata": {
        "id": "view-in-github",
        "colab_type": "text"
      },
      "source": [
        "<a href=\"https://colab.research.google.com/github/hdawit/Customer-Engagement-Coupon-Strategy/blob/master/CouponAcceptanceAnalysis.ipynb\" target=\"_parent\"><img src=\"https://colab.research.google.com/assets/colab-badge.svg\" alt=\"Open In Colab\"/></a>"
      ]
    },
    {
      "cell_type": "markdown",
      "metadata": {
        "id": "jnhodkc_LWzI"
      },
      "source": [
        "### Will a Customer Accept the Coupon?\n",
        "\n",
        "**Context**\n",
        "\n",
        "Imagine driving through town and a coupon is delivered to your cell phone for a restaraunt near where you are driving. Would you accept that coupon and take a short detour to the restaraunt? Would you accept the coupon but use it on a sunbsequent trip? Would you ignore the coupon entirely? What if the coupon was for a bar instead of a restaraunt? What about a coffee house? Would you accept a bar coupon with a minor passenger in the car? What about if it was just you and your partner in the car? Would weather impact the rate of acceptance? What about the time of day?\n",
        "\n",
        "Obviously, proximity to the business is a factor on whether the coupon is delivered to the driver or not, but what are the factors that determine whether a driver accepts the coupon once it is delivered to them? How would you determine whether a driver is likely to accept a coupon?\n",
        "\n",
        "**Overview**\n",
        "\n",
        "The goal of this project is to use what you know about visualizations and probability distributions to distinguish between customers who accepted a driving coupon versus those that did not.\n",
        "\n",
        "**Data**\n",
        "\n",
        "This data comes to us from the UCI Machine Learning repository and was collected via a survey on Amazon Mechanical Turk. The survey describes different driving scenarios including the destination, current time, weather, passenger, etc., and then ask the person whether he will accept the coupon if he is the driver. Answers that the user will drive there ‘right away’ or ‘later before the coupon expires’ are labeled as ‘Y = 1’ and answers ‘no, I do not want the coupon’ are labeled as ‘Y = 0’.  There are five different types of coupons -- less expensive restaurants (under \\\\$20), coffee houses, carry out & take away, bar, and more expensive restaurants (\\\\$20 - \\\\$50)."
      ]
    },
    {
      "cell_type": "code",
      "source": [
        "from google.colab import drive\n",
        "drive.mount('/content/drive')"
      ],
      "metadata": {
        "colab": {
          "base_uri": "https://localhost:8080/"
        },
        "id": "gZo7U-83LYCV",
        "outputId": "8a34b3fd-55a3-4cff-9b43-d047b5560f1e"
      },
      "execution_count": 1,
      "outputs": [
        {
          "output_type": "stream",
          "name": "stdout",
          "text": [
            "Mounted at /content/drive\n"
          ]
        }
      ]
    },
    {
      "cell_type": "markdown",
      "metadata": {
        "id": "zsonVnkZLWzK"
      },
      "source": [
        "**Deliverables**\n",
        "\n",
        "Your final product should be a brief report that highlights the differences between customers who did and did not accept the coupons.  To explore the data you will utilize your knowledge of plotting, statistical summaries, and visualization using Python. You will publish your findings in a public facing github repository as your first portfolio piece.\n",
        "\n",
        "\n",
        "\n"
      ]
    },
    {
      "cell_type": "markdown",
      "metadata": {
        "id": "E-Y3oElGLWzK"
      },
      "source": [
        "### Data Description\n",
        "Keep in mind that these values mentioned below are average values.\n",
        "\n",
        "The attributes of this data set include:\n",
        "1. User attributes\n",
        "    -  Gender: male, female\n",
        "    -  Age: below 21, 21 to 25, 26 to 30, etc.\n",
        "    -  Marital Status: single, married partner, unmarried partner, or widowed\n",
        "    -  Number of children: 0, 1, or more than 1\n",
        "    -  Education: high school, bachelors degree, associates degree, or graduate degree\n",
        "    -  Occupation: architecture & engineering, business & financial, etc.\n",
        "    -  Annual income: less than \\\\$12500, \\\\$12500 - \\\\$24999, \\\\$25000 - \\\\$37499, etc.\n",
        "    -  Number of times that he/she goes to a bar: 0, less than 1, 1 to 3, 4 to 8 or greater than 8\n",
        "    -  Number of times that he/she buys takeaway food: 0, less than 1, 1 to 3, 4 to 8 or greater\n",
        "    than 8\n",
        "    -  Number of times that he/she goes to a coffee house: 0, less than 1, 1 to 3, 4 to 8 or\n",
        "    greater than 8\n",
        "    -  Number of times that he/she eats at a restaurant with average expense less than \\\\$20 per\n",
        "    person: 0, less than 1, 1 to 3, 4 to 8 or greater than 8\n",
        "    -  Number of times that he/she goes to a bar: 0, less than 1, 1 to 3, 4 to 8 or greater than 8\n",
        "    \n",
        "\n",
        "2. Contextual attributes\n",
        "    - Driving destination: home, work, or no urgent destination\n",
        "    - Location of user, coupon and destination: we provide a map to show the geographical\n",
        "    location of the user, destination, and the venue, and we mark the distance between each\n",
        "    two places with time of driving. The user can see whether the venue is in the same\n",
        "    direction as the destination.\n",
        "    - Weather: sunny, rainy, or snowy\n",
        "    - Temperature: 30F, 55F, or 80F\n",
        "    - Time: 10AM, 2PM, or 6PM\n",
        "    - Passenger: alone, partner, kid(s), or friend(s)\n",
        "\n",
        "\n",
        "3. Coupon attributes\n",
        "    - time before it expires: 2 hours or one day"
      ]
    },
    {
      "cell_type": "code",
      "execution_count": 2,
      "metadata": {
        "id": "EQ8OSs7_LWzL"
      },
      "outputs": [],
      "source": [
        "import matplotlib.pyplot as plt\n",
        "import seaborn as sns\n",
        "import pandas as pd\n",
        "import numpy as np"
      ]
    },
    {
      "cell_type": "markdown",
      "metadata": {
        "id": "kPGp9lcALWzM"
      },
      "source": [
        "### Problems\n",
        "\n",
        "Use the prompts below to get started with your data analysis.  \n",
        "\n",
        "## **1. Read in the `coupons.csv` file.**\n",
        "\n",
        "\n"
      ]
    },
    {
      "cell_type": "code",
      "execution_count": 3,
      "metadata": {
        "id": "LZjvb6gzLWzM"
      },
      "outputs": [],
      "source": [
        "data = pd.read_csv('/content/drive/MyDrive/Practical Application Assignment 5.1/Coupon Acceptance Analysis/data/coupons.csv')"
      ]
    },
    {
      "cell_type": "code",
      "execution_count": 4,
      "metadata": {
        "colab": {
          "base_uri": "https://localhost:8080/",
          "height": 386
        },
        "id": "A7IpWGa7LWzM",
        "outputId": "6f8391ca-3a19-44b1-c25e-3feeee1ba840"
      },
      "outputs": [
        {
          "output_type": "execute_result",
          "data": {
            "text/plain": [
              "       destination  passanger weather  temperature  time  \\\n",
              "0  No Urgent Place      Alone   Sunny           55   2PM   \n",
              "1  No Urgent Place  Friend(s)   Sunny           80  10AM   \n",
              "2  No Urgent Place  Friend(s)   Sunny           80  10AM   \n",
              "3  No Urgent Place  Friend(s)   Sunny           80   2PM   \n",
              "4  No Urgent Place  Friend(s)   Sunny           80   2PM   \n",
              "\n",
              "                  coupon expiration  gender age      maritalStatus  ...  \\\n",
              "0        Restaurant(<20)         1d  Female  21  Unmarried partner  ...   \n",
              "1           Coffee House         2h  Female  21  Unmarried partner  ...   \n",
              "2  Carry out & Take away         2h  Female  21  Unmarried partner  ...   \n",
              "3           Coffee House         2h  Female  21  Unmarried partner  ...   \n",
              "4           Coffee House         1d  Female  21  Unmarried partner  ...   \n",
              "\n",
              "   CoffeeHouse CarryAway RestaurantLessThan20 Restaurant20To50  \\\n",
              "0        never       NaN                  4~8              1~3   \n",
              "1        never       NaN                  4~8              1~3   \n",
              "2        never       NaN                  4~8              1~3   \n",
              "3        never       NaN                  4~8              1~3   \n",
              "4        never       NaN                  4~8              1~3   \n",
              "\n",
              "  toCoupon_GEQ5min toCoupon_GEQ15min toCoupon_GEQ25min direction_same  \\\n",
              "0                1                 0                 0              0   \n",
              "1                1                 0                 0              0   \n",
              "2                1                 1                 0              0   \n",
              "3                1                 1                 0              0   \n",
              "4                1                 1                 0              0   \n",
              "\n",
              "  direction_opp  Y  \n",
              "0             1  1  \n",
              "1             1  0  \n",
              "2             1  1  \n",
              "3             1  0  \n",
              "4             1  0  \n",
              "\n",
              "[5 rows x 26 columns]"
            ],
            "text/html": [
              "\n",
              "\n",
              "  <div id=\"df-c73729bc-5ede-4b0d-90b6-eaddda56a0be\">\n",
              "    <div class=\"colab-df-container\">\n",
              "      <div>\n",
              "<style scoped>\n",
              "    .dataframe tbody tr th:only-of-type {\n",
              "        vertical-align: middle;\n",
              "    }\n",
              "\n",
              "    .dataframe tbody tr th {\n",
              "        vertical-align: top;\n",
              "    }\n",
              "\n",
              "    .dataframe thead th {\n",
              "        text-align: right;\n",
              "    }\n",
              "</style>\n",
              "<table border=\"1\" class=\"dataframe\">\n",
              "  <thead>\n",
              "    <tr style=\"text-align: right;\">\n",
              "      <th></th>\n",
              "      <th>destination</th>\n",
              "      <th>passanger</th>\n",
              "      <th>weather</th>\n",
              "      <th>temperature</th>\n",
              "      <th>time</th>\n",
              "      <th>coupon</th>\n",
              "      <th>expiration</th>\n",
              "      <th>gender</th>\n",
              "      <th>age</th>\n",
              "      <th>maritalStatus</th>\n",
              "      <th>...</th>\n",
              "      <th>CoffeeHouse</th>\n",
              "      <th>CarryAway</th>\n",
              "      <th>RestaurantLessThan20</th>\n",
              "      <th>Restaurant20To50</th>\n",
              "      <th>toCoupon_GEQ5min</th>\n",
              "      <th>toCoupon_GEQ15min</th>\n",
              "      <th>toCoupon_GEQ25min</th>\n",
              "      <th>direction_same</th>\n",
              "      <th>direction_opp</th>\n",
              "      <th>Y</th>\n",
              "    </tr>\n",
              "  </thead>\n",
              "  <tbody>\n",
              "    <tr>\n",
              "      <th>0</th>\n",
              "      <td>No Urgent Place</td>\n",
              "      <td>Alone</td>\n",
              "      <td>Sunny</td>\n",
              "      <td>55</td>\n",
              "      <td>2PM</td>\n",
              "      <td>Restaurant(&lt;20)</td>\n",
              "      <td>1d</td>\n",
              "      <td>Female</td>\n",
              "      <td>21</td>\n",
              "      <td>Unmarried partner</td>\n",
              "      <td>...</td>\n",
              "      <td>never</td>\n",
              "      <td>NaN</td>\n",
              "      <td>4~8</td>\n",
              "      <td>1~3</td>\n",
              "      <td>1</td>\n",
              "      <td>0</td>\n",
              "      <td>0</td>\n",
              "      <td>0</td>\n",
              "      <td>1</td>\n",
              "      <td>1</td>\n",
              "    </tr>\n",
              "    <tr>\n",
              "      <th>1</th>\n",
              "      <td>No Urgent Place</td>\n",
              "      <td>Friend(s)</td>\n",
              "      <td>Sunny</td>\n",
              "      <td>80</td>\n",
              "      <td>10AM</td>\n",
              "      <td>Coffee House</td>\n",
              "      <td>2h</td>\n",
              "      <td>Female</td>\n",
              "      <td>21</td>\n",
              "      <td>Unmarried partner</td>\n",
              "      <td>...</td>\n",
              "      <td>never</td>\n",
              "      <td>NaN</td>\n",
              "      <td>4~8</td>\n",
              "      <td>1~3</td>\n",
              "      <td>1</td>\n",
              "      <td>0</td>\n",
              "      <td>0</td>\n",
              "      <td>0</td>\n",
              "      <td>1</td>\n",
              "      <td>0</td>\n",
              "    </tr>\n",
              "    <tr>\n",
              "      <th>2</th>\n",
              "      <td>No Urgent Place</td>\n",
              "      <td>Friend(s)</td>\n",
              "      <td>Sunny</td>\n",
              "      <td>80</td>\n",
              "      <td>10AM</td>\n",
              "      <td>Carry out &amp; Take away</td>\n",
              "      <td>2h</td>\n",
              "      <td>Female</td>\n",
              "      <td>21</td>\n",
              "      <td>Unmarried partner</td>\n",
              "      <td>...</td>\n",
              "      <td>never</td>\n",
              "      <td>NaN</td>\n",
              "      <td>4~8</td>\n",
              "      <td>1~3</td>\n",
              "      <td>1</td>\n",
              "      <td>1</td>\n",
              "      <td>0</td>\n",
              "      <td>0</td>\n",
              "      <td>1</td>\n",
              "      <td>1</td>\n",
              "    </tr>\n",
              "    <tr>\n",
              "      <th>3</th>\n",
              "      <td>No Urgent Place</td>\n",
              "      <td>Friend(s)</td>\n",
              "      <td>Sunny</td>\n",
              "      <td>80</td>\n",
              "      <td>2PM</td>\n",
              "      <td>Coffee House</td>\n",
              "      <td>2h</td>\n",
              "      <td>Female</td>\n",
              "      <td>21</td>\n",
              "      <td>Unmarried partner</td>\n",
              "      <td>...</td>\n",
              "      <td>never</td>\n",
              "      <td>NaN</td>\n",
              "      <td>4~8</td>\n",
              "      <td>1~3</td>\n",
              "      <td>1</td>\n",
              "      <td>1</td>\n",
              "      <td>0</td>\n",
              "      <td>0</td>\n",
              "      <td>1</td>\n",
              "      <td>0</td>\n",
              "    </tr>\n",
              "    <tr>\n",
              "      <th>4</th>\n",
              "      <td>No Urgent Place</td>\n",
              "      <td>Friend(s)</td>\n",
              "      <td>Sunny</td>\n",
              "      <td>80</td>\n",
              "      <td>2PM</td>\n",
              "      <td>Coffee House</td>\n",
              "      <td>1d</td>\n",
              "      <td>Female</td>\n",
              "      <td>21</td>\n",
              "      <td>Unmarried partner</td>\n",
              "      <td>...</td>\n",
              "      <td>never</td>\n",
              "      <td>NaN</td>\n",
              "      <td>4~8</td>\n",
              "      <td>1~3</td>\n",
              "      <td>1</td>\n",
              "      <td>1</td>\n",
              "      <td>0</td>\n",
              "      <td>0</td>\n",
              "      <td>1</td>\n",
              "      <td>0</td>\n",
              "    </tr>\n",
              "  </tbody>\n",
              "</table>\n",
              "<p>5 rows × 26 columns</p>\n",
              "</div>\n",
              "      <button class=\"colab-df-convert\" onclick=\"convertToInteractive('df-c73729bc-5ede-4b0d-90b6-eaddda56a0be')\"\n",
              "              title=\"Convert this dataframe to an interactive table.\"\n",
              "              style=\"display:none;\">\n",
              "\n",
              "  <svg xmlns=\"http://www.w3.org/2000/svg\" height=\"24px\"viewBox=\"0 0 24 24\"\n",
              "       width=\"24px\">\n",
              "    <path d=\"M0 0h24v24H0V0z\" fill=\"none\"/>\n",
              "    <path d=\"M18.56 5.44l.94 2.06.94-2.06 2.06-.94-2.06-.94-.94-2.06-.94 2.06-2.06.94zm-11 1L8.5 8.5l.94-2.06 2.06-.94-2.06-.94L8.5 2.5l-.94 2.06-2.06.94zm10 10l.94 2.06.94-2.06 2.06-.94-2.06-.94-.94-2.06-.94 2.06-2.06.94z\"/><path d=\"M17.41 7.96l-1.37-1.37c-.4-.4-.92-.59-1.43-.59-.52 0-1.04.2-1.43.59L10.3 9.45l-7.72 7.72c-.78.78-.78 2.05 0 2.83L4 21.41c.39.39.9.59 1.41.59.51 0 1.02-.2 1.41-.59l7.78-7.78 2.81-2.81c.8-.78.8-2.07 0-2.86zM5.41 20L4 18.59l7.72-7.72 1.47 1.35L5.41 20z\"/>\n",
              "  </svg>\n",
              "      </button>\n",
              "\n",
              "\n",
              "\n",
              "    <div id=\"df-8208de8c-a9b0-4666-9edb-98a384c3007f\">\n",
              "      <button class=\"colab-df-quickchart\" onclick=\"quickchart('df-8208de8c-a9b0-4666-9edb-98a384c3007f')\"\n",
              "              title=\"Suggest charts.\"\n",
              "              style=\"display:none;\">\n",
              "\n",
              "<svg xmlns=\"http://www.w3.org/2000/svg\" height=\"24px\"viewBox=\"0 0 24 24\"\n",
              "     width=\"24px\">\n",
              "    <g>\n",
              "        <path d=\"M19 3H5c-1.1 0-2 .9-2 2v14c0 1.1.9 2 2 2h14c1.1 0 2-.9 2-2V5c0-1.1-.9-2-2-2zM9 17H7v-7h2v7zm4 0h-2V7h2v10zm4 0h-2v-4h2v4z\"/>\n",
              "    </g>\n",
              "</svg>\n",
              "      </button>\n",
              "    </div>\n",
              "\n",
              "<style>\n",
              "  .colab-df-quickchart {\n",
              "    background-color: #E8F0FE;\n",
              "    border: none;\n",
              "    border-radius: 50%;\n",
              "    cursor: pointer;\n",
              "    display: none;\n",
              "    fill: #1967D2;\n",
              "    height: 32px;\n",
              "    padding: 0 0 0 0;\n",
              "    width: 32px;\n",
              "  }\n",
              "\n",
              "  .colab-df-quickchart:hover {\n",
              "    background-color: #E2EBFA;\n",
              "    box-shadow: 0px 1px 2px rgba(60, 64, 67, 0.3), 0px 1px 3px 1px rgba(60, 64, 67, 0.15);\n",
              "    fill: #174EA6;\n",
              "  }\n",
              "\n",
              "  [theme=dark] .colab-df-quickchart {\n",
              "    background-color: #3B4455;\n",
              "    fill: #D2E3FC;\n",
              "  }\n",
              "\n",
              "  [theme=dark] .colab-df-quickchart:hover {\n",
              "    background-color: #434B5C;\n",
              "    box-shadow: 0px 1px 3px 1px rgba(0, 0, 0, 0.15);\n",
              "    filter: drop-shadow(0px 1px 2px rgba(0, 0, 0, 0.3));\n",
              "    fill: #FFFFFF;\n",
              "  }\n",
              "</style>\n",
              "\n",
              "    <script>\n",
              "      async function quickchart(key) {\n",
              "        const containerElement = document.querySelector('#' + key);\n",
              "        const charts = await google.colab.kernel.invokeFunction(\n",
              "            'suggestCharts', [key], {});\n",
              "      }\n",
              "    </script>\n",
              "\n",
              "      <script>\n",
              "\n",
              "function displayQuickchartButton(domScope) {\n",
              "  let quickchartButtonEl =\n",
              "    domScope.querySelector('#df-8208de8c-a9b0-4666-9edb-98a384c3007f button.colab-df-quickchart');\n",
              "  quickchartButtonEl.style.display =\n",
              "    google.colab.kernel.accessAllowed ? 'block' : 'none';\n",
              "}\n",
              "\n",
              "        displayQuickchartButton(document);\n",
              "      </script>\n",
              "      <style>\n",
              "    .colab-df-container {\n",
              "      display:flex;\n",
              "      flex-wrap:wrap;\n",
              "      gap: 12px;\n",
              "    }\n",
              "\n",
              "    .colab-df-convert {\n",
              "      background-color: #E8F0FE;\n",
              "      border: none;\n",
              "      border-radius: 50%;\n",
              "      cursor: pointer;\n",
              "      display: none;\n",
              "      fill: #1967D2;\n",
              "      height: 32px;\n",
              "      padding: 0 0 0 0;\n",
              "      width: 32px;\n",
              "    }\n",
              "\n",
              "    .colab-df-convert:hover {\n",
              "      background-color: #E2EBFA;\n",
              "      box-shadow: 0px 1px 2px rgba(60, 64, 67, 0.3), 0px 1px 3px 1px rgba(60, 64, 67, 0.15);\n",
              "      fill: #174EA6;\n",
              "    }\n",
              "\n",
              "    [theme=dark] .colab-df-convert {\n",
              "      background-color: #3B4455;\n",
              "      fill: #D2E3FC;\n",
              "    }\n",
              "\n",
              "    [theme=dark] .colab-df-convert:hover {\n",
              "      background-color: #434B5C;\n",
              "      box-shadow: 0px 1px 3px 1px rgba(0, 0, 0, 0.15);\n",
              "      filter: drop-shadow(0px 1px 2px rgba(0, 0, 0, 0.3));\n",
              "      fill: #FFFFFF;\n",
              "    }\n",
              "  </style>\n",
              "\n",
              "      <script>\n",
              "        const buttonEl =\n",
              "          document.querySelector('#df-c73729bc-5ede-4b0d-90b6-eaddda56a0be button.colab-df-convert');\n",
              "        buttonEl.style.display =\n",
              "          google.colab.kernel.accessAllowed ? 'block' : 'none';\n",
              "\n",
              "        async function convertToInteractive(key) {\n",
              "          const element = document.querySelector('#df-c73729bc-5ede-4b0d-90b6-eaddda56a0be');\n",
              "          const dataTable =\n",
              "            await google.colab.kernel.invokeFunction('convertToInteractive',\n",
              "                                                     [key], {});\n",
              "          if (!dataTable) return;\n",
              "\n",
              "          const docLinkHtml = 'Like what you see? Visit the ' +\n",
              "            '<a target=\"_blank\" href=https://colab.research.google.com/notebooks/data_table.ipynb>data table notebook</a>'\n",
              "            + ' to learn more about interactive tables.';\n",
              "          element.innerHTML = '';\n",
              "          dataTable['output_type'] = 'display_data';\n",
              "          await google.colab.output.renderOutput(dataTable, element);\n",
              "          const docLink = document.createElement('div');\n",
              "          docLink.innerHTML = docLinkHtml;\n",
              "          element.appendChild(docLink);\n",
              "        }\n",
              "      </script>\n",
              "    </div>\n",
              "  </div>\n"
            ]
          },
          "metadata": {},
          "execution_count": 4
        }
      ],
      "source": [
        "data.head()"
      ]
    },
    {
      "cell_type": "markdown",
      "metadata": {
        "id": "K1Y_BvjULWzN"
      },
      "source": [
        "## **2. Investigate the dataset for missing or problematic data.**"
      ]
    },
    {
      "cell_type": "code",
      "execution_count": 5,
      "metadata": {
        "colab": {
          "base_uri": "https://localhost:8080/"
        },
        "id": "vTs2H4O2LWzN",
        "outputId": "6716d328-ecdc-4473-8171-ce860a9f1353"
      },
      "outputs": [
        {
          "output_type": "stream",
          "name": "stdout",
          "text": [
            "<class 'pandas.core.frame.DataFrame'>\n",
            "RangeIndex: 12684 entries, 0 to 12683\n",
            "Data columns (total 26 columns):\n",
            " #   Column                Non-Null Count  Dtype \n",
            "---  ------                --------------  ----- \n",
            " 0   destination           12684 non-null  object\n",
            " 1   passanger             12684 non-null  object\n",
            " 2   weather               12684 non-null  object\n",
            " 3   temperature           12684 non-null  int64 \n",
            " 4   time                  12684 non-null  object\n",
            " 5   coupon                12684 non-null  object\n",
            " 6   expiration            12684 non-null  object\n",
            " 7   gender                12684 non-null  object\n",
            " 8   age                   12684 non-null  object\n",
            " 9   maritalStatus         12684 non-null  object\n",
            " 10  has_children          12684 non-null  int64 \n",
            " 11  education             12684 non-null  object\n",
            " 12  occupation            12684 non-null  object\n",
            " 13  income                12684 non-null  object\n",
            " 14  car                   108 non-null    object\n",
            " 15  Bar                   12577 non-null  object\n",
            " 16  CoffeeHouse           12467 non-null  object\n",
            " 17  CarryAway             12533 non-null  object\n",
            " 18  RestaurantLessThan20  12554 non-null  object\n",
            " 19  Restaurant20To50      12495 non-null  object\n",
            " 20  toCoupon_GEQ5min      12684 non-null  int64 \n",
            " 21  toCoupon_GEQ15min     12684 non-null  int64 \n",
            " 22  toCoupon_GEQ25min     12684 non-null  int64 \n",
            " 23  direction_same        12684 non-null  int64 \n",
            " 24  direction_opp         12684 non-null  int64 \n",
            " 25  Y                     12684 non-null  int64 \n",
            "dtypes: int64(8), object(18)\n",
            "memory usage: 2.5+ MB\n"
          ]
        }
      ],
      "source": [
        "# Check the data summary: Use the info() method to get a summary of the dataset, including data types, and the number of non-null values in each column.\n",
        "data.info()"
      ]
    },
    {
      "cell_type": "markdown",
      "source": [
        "It appears that there are 12,684 entries in the dataset with 26 columns.\n",
        "\n",
        "*  **Missing Values:** It seems that some columns have missing values. For example, the \"car\" column has only 108 non-null values, indicating that most of the entries in this column are missing. Other columns such as \"Bar,\" \"CoffeeHouse,\" \"CarryAway,\" \"RestaurantLessThan20,\" and \"Restaurant20To50\" also have some missing values.\n",
        "*   **Data Types:** Most of the columns are of object type, which typically represents string or categorical data. However, some columns such as \"temperature\" and the target column \"Y\" (which likely represents whether the customer accepted the coupon) are of integer type.\n",
        "\n",
        "**Next Step:** Handling mmissing value"
      ],
      "metadata": {
        "id": "RKlamM91Oj4l"
      }
    },
    {
      "cell_type": "markdown",
      "metadata": {
        "id": "BYyiSVZpLWzN"
      },
      "source": [
        "## **3. Decide what to do about your missing data -- drop, replace, other...**"
      ]
    },
    {
      "cell_type": "code",
      "source": [
        "# Count the unique values in the \"car\" column and print the unique values\n",
        "car_value_counts = data['car'].value_counts()\n",
        "print(car_value_counts)"
      ],
      "metadata": {
        "colab": {
          "base_uri": "https://localhost:8080/"
        },
        "id": "Y9R4TqxwOLO3",
        "outputId": "9481482e-dac0-4cb7-a55a-a4227e6345aa"
      },
      "execution_count": 6,
      "outputs": [
        {
          "output_type": "stream",
          "name": "stdout",
          "text": [
            "Scooter and motorcycle                      22\n",
            "Mazda5                                      22\n",
            "do not drive                                22\n",
            "crossover                                   21\n",
            "Car that is too old to install Onstar :D    21\n",
            "Name: car, dtype: int64\n"
          ]
        }
      ]
    },
    {
      "cell_type": "markdown",
      "source": [
        "Considering the context and the questions posed, the \"car\" column could potentially be relevant in determining whether a driver is likely to accept a coupon. The presence or absence of a car may influence the driver's decision to accept the coupon, especially if it involves taking a detour or driving to a different location.\n",
        "\n",
        "However, it's important to note that the \"car\" column has a significant number of missing values (108 non-null values out of 12,684 entries). In such cases, using the column for analysis may introduce bias or limit the representativeness of the data.\n",
        "\n",
        "**Next Step:**\n",
        "\n",
        "1. Assuming the missing values in the \"car\" column cannot be reasonably imputed or filled in based on available information, dropping the column might be a reasonable option. By dropping the \"car\" column, I would ensure that the analysis is not influenced by a significant number of missing values, and  consider alternative factors that might influence the acceptance of coupons, such as destination, weather, time of day, and other demographic or contextual attributes available in the dataset.\n",
        "\n",
        "2. Taking into account that the missing values in other columns can be replaced by the most frequent value (mode) for categorical columns (Bar, CoffeeHouse, CarryAway, RestaurantLessThan20, and Restaurant20To50), I will fill them up. For the numerical column (temperature), I am filling the missing values with the mean temperature.\n"
      ],
      "metadata": {
        "id": "JQJk2GRsTEv0"
      }
    },
    {
      "cell_type": "code",
      "source": [
        "# Fill missing values for other columns\n",
        "data['Bar'].fillna(data['Bar'].mode()[0], inplace=True)\n",
        "data['CoffeeHouse'].fillna(data['CoffeeHouse'].mode()[0], inplace=True)\n",
        "data['CarryAway'].fillna(data['CarryAway'].mode()[0], inplace=True)\n",
        "data['RestaurantLessThan20'].fillna(data['RestaurantLessThan20'].mode()[0], inplace=True)\n",
        "data['Restaurant20To50'].fillna(data['Restaurant20To50'].mode()[0], inplace=True)\n",
        "data['temperature'].fillna(data['temperature'].mean(), inplace=True)"
      ],
      "metadata": {
        "id": "j4Sml01dVVhB"
      },
      "execution_count": 7,
      "outputs": []
    },
    {
      "cell_type": "code",
      "source": [
        "# Display the first few rows of the updated dataset\n",
        "print(data.head())"
      ],
      "metadata": {
        "colab": {
          "base_uri": "https://localhost:8080/"
        },
        "id": "RHWySpieWNNi",
        "outputId": "e73cd9db-934b-4ea3-c6e5-baf6f8e26380"
      },
      "execution_count": 8,
      "outputs": [
        {
          "output_type": "stream",
          "name": "stdout",
          "text": [
            "       destination  passanger weather  temperature  time  \\\n",
            "0  No Urgent Place      Alone   Sunny           55   2PM   \n",
            "1  No Urgent Place  Friend(s)   Sunny           80  10AM   \n",
            "2  No Urgent Place  Friend(s)   Sunny           80  10AM   \n",
            "3  No Urgent Place  Friend(s)   Sunny           80   2PM   \n",
            "4  No Urgent Place  Friend(s)   Sunny           80   2PM   \n",
            "\n",
            "                  coupon expiration  gender age      maritalStatus  ...  \\\n",
            "0        Restaurant(<20)         1d  Female  21  Unmarried partner  ...   \n",
            "1           Coffee House         2h  Female  21  Unmarried partner  ...   \n",
            "2  Carry out & Take away         2h  Female  21  Unmarried partner  ...   \n",
            "3           Coffee House         2h  Female  21  Unmarried partner  ...   \n",
            "4           Coffee House         1d  Female  21  Unmarried partner  ...   \n",
            "\n",
            "   CoffeeHouse CarryAway RestaurantLessThan20 Restaurant20To50  \\\n",
            "0        never       1~3                  4~8              1~3   \n",
            "1        never       1~3                  4~8              1~3   \n",
            "2        never       1~3                  4~8              1~3   \n",
            "3        never       1~3                  4~8              1~3   \n",
            "4        never       1~3                  4~8              1~3   \n",
            "\n",
            "  toCoupon_GEQ5min toCoupon_GEQ15min toCoupon_GEQ25min direction_same  \\\n",
            "0                1                 0                 0              0   \n",
            "1                1                 0                 0              0   \n",
            "2                1                 1                 0              0   \n",
            "3                1                 1                 0              0   \n",
            "4                1                 1                 0              0   \n",
            "\n",
            "  direction_opp  Y  \n",
            "0             1  1  \n",
            "1             1  0  \n",
            "2             1  1  \n",
            "3             1  0  \n",
            "4             1  0  \n",
            "\n",
            "[5 rows x 26 columns]\n"
          ]
        }
      ]
    },
    {
      "cell_type": "code",
      "execution_count": 9,
      "metadata": {
        "colab": {
          "base_uri": "https://localhost:8080/",
          "height": 386
        },
        "id": "q1pNsbJ8LWzN",
        "outputId": "0bb39783-8ea4-4343-96c1-1802493ef5d3"
      },
      "outputs": [
        {
          "output_type": "execute_result",
          "data": {
            "text/plain": [
              "           destination passanger weather  temperature  time  \\\n",
              "7899              Home   Partner   Sunny           30  10PM   \n",
              "2856   No Urgent Place     Alone   Sunny           55  10AM   \n",
              "12560             Home     Alone   Sunny           80   6PM   \n",
              "11131  No Urgent Place     Alone   Sunny           80  10AM   \n",
              "11219  No Urgent Place   Partner   Sunny           30  10AM   \n",
              "\n",
              "                      coupon expiration  gender      age      maritalStatus  \\\n",
              "7899   Carry out & Take away         2h    Male       26    Married partner   \n",
              "2856            Coffee House         2h  Female       21             Single   \n",
              "12560      Restaurant(20-50)         1d  Female       26    Married partner   \n",
              "11131        Restaurant(<20)         2h    Male   50plus             Single   \n",
              "11219      Restaurant(20-50)         1d    Male  below21  Unmarried partner   \n",
              "\n",
              "       ...  CoffeeHouse CarryAway RestaurantLessThan20 Restaurant20To50  \\\n",
              "7899   ...          gt8       4~8                  4~8            less1   \n",
              "2856   ...        less1       1~3                less1            less1   \n",
              "12560  ...        less1       1~3                  1~3            never   \n",
              "11131  ...          4~8       4~8                  1~3            less1   \n",
              "11219  ...        never       1~3                less1            never   \n",
              "\n",
              "      toCoupon_GEQ5min toCoupon_GEQ15min toCoupon_GEQ25min direction_same  \\\n",
              "7899                 1                 1                 0              0   \n",
              "2856                 1                 0                 0              0   \n",
              "12560                1                 0                 0              1   \n",
              "11131                1                 0                 0              0   \n",
              "11219                1                 0                 0              0   \n",
              "\n",
              "      direction_opp  Y  \n",
              "7899              1  1  \n",
              "2856              1  1  \n",
              "12560             0  1  \n",
              "11131             1  1  \n",
              "11219             1  0  \n",
              "\n",
              "[5 rows x 26 columns]"
            ],
            "text/html": [
              "\n",
              "\n",
              "  <div id=\"df-d9334701-815b-4cf1-9b6e-c04e39b33a8e\">\n",
              "    <div class=\"colab-df-container\">\n",
              "      <div>\n",
              "<style scoped>\n",
              "    .dataframe tbody tr th:only-of-type {\n",
              "        vertical-align: middle;\n",
              "    }\n",
              "\n",
              "    .dataframe tbody tr th {\n",
              "        vertical-align: top;\n",
              "    }\n",
              "\n",
              "    .dataframe thead th {\n",
              "        text-align: right;\n",
              "    }\n",
              "</style>\n",
              "<table border=\"1\" class=\"dataframe\">\n",
              "  <thead>\n",
              "    <tr style=\"text-align: right;\">\n",
              "      <th></th>\n",
              "      <th>destination</th>\n",
              "      <th>passanger</th>\n",
              "      <th>weather</th>\n",
              "      <th>temperature</th>\n",
              "      <th>time</th>\n",
              "      <th>coupon</th>\n",
              "      <th>expiration</th>\n",
              "      <th>gender</th>\n",
              "      <th>age</th>\n",
              "      <th>maritalStatus</th>\n",
              "      <th>...</th>\n",
              "      <th>CoffeeHouse</th>\n",
              "      <th>CarryAway</th>\n",
              "      <th>RestaurantLessThan20</th>\n",
              "      <th>Restaurant20To50</th>\n",
              "      <th>toCoupon_GEQ5min</th>\n",
              "      <th>toCoupon_GEQ15min</th>\n",
              "      <th>toCoupon_GEQ25min</th>\n",
              "      <th>direction_same</th>\n",
              "      <th>direction_opp</th>\n",
              "      <th>Y</th>\n",
              "    </tr>\n",
              "  </thead>\n",
              "  <tbody>\n",
              "    <tr>\n",
              "      <th>7899</th>\n",
              "      <td>Home</td>\n",
              "      <td>Partner</td>\n",
              "      <td>Sunny</td>\n",
              "      <td>30</td>\n",
              "      <td>10PM</td>\n",
              "      <td>Carry out &amp; Take away</td>\n",
              "      <td>2h</td>\n",
              "      <td>Male</td>\n",
              "      <td>26</td>\n",
              "      <td>Married partner</td>\n",
              "      <td>...</td>\n",
              "      <td>gt8</td>\n",
              "      <td>4~8</td>\n",
              "      <td>4~8</td>\n",
              "      <td>less1</td>\n",
              "      <td>1</td>\n",
              "      <td>1</td>\n",
              "      <td>0</td>\n",
              "      <td>0</td>\n",
              "      <td>1</td>\n",
              "      <td>1</td>\n",
              "    </tr>\n",
              "    <tr>\n",
              "      <th>2856</th>\n",
              "      <td>No Urgent Place</td>\n",
              "      <td>Alone</td>\n",
              "      <td>Sunny</td>\n",
              "      <td>55</td>\n",
              "      <td>10AM</td>\n",
              "      <td>Coffee House</td>\n",
              "      <td>2h</td>\n",
              "      <td>Female</td>\n",
              "      <td>21</td>\n",
              "      <td>Single</td>\n",
              "      <td>...</td>\n",
              "      <td>less1</td>\n",
              "      <td>1~3</td>\n",
              "      <td>less1</td>\n",
              "      <td>less1</td>\n",
              "      <td>1</td>\n",
              "      <td>0</td>\n",
              "      <td>0</td>\n",
              "      <td>0</td>\n",
              "      <td>1</td>\n",
              "      <td>1</td>\n",
              "    </tr>\n",
              "    <tr>\n",
              "      <th>12560</th>\n",
              "      <td>Home</td>\n",
              "      <td>Alone</td>\n",
              "      <td>Sunny</td>\n",
              "      <td>80</td>\n",
              "      <td>6PM</td>\n",
              "      <td>Restaurant(20-50)</td>\n",
              "      <td>1d</td>\n",
              "      <td>Female</td>\n",
              "      <td>26</td>\n",
              "      <td>Married partner</td>\n",
              "      <td>...</td>\n",
              "      <td>less1</td>\n",
              "      <td>1~3</td>\n",
              "      <td>1~3</td>\n",
              "      <td>never</td>\n",
              "      <td>1</td>\n",
              "      <td>0</td>\n",
              "      <td>0</td>\n",
              "      <td>1</td>\n",
              "      <td>0</td>\n",
              "      <td>1</td>\n",
              "    </tr>\n",
              "    <tr>\n",
              "      <th>11131</th>\n",
              "      <td>No Urgent Place</td>\n",
              "      <td>Alone</td>\n",
              "      <td>Sunny</td>\n",
              "      <td>80</td>\n",
              "      <td>10AM</td>\n",
              "      <td>Restaurant(&lt;20)</td>\n",
              "      <td>2h</td>\n",
              "      <td>Male</td>\n",
              "      <td>50plus</td>\n",
              "      <td>Single</td>\n",
              "      <td>...</td>\n",
              "      <td>4~8</td>\n",
              "      <td>4~8</td>\n",
              "      <td>1~3</td>\n",
              "      <td>less1</td>\n",
              "      <td>1</td>\n",
              "      <td>0</td>\n",
              "      <td>0</td>\n",
              "      <td>0</td>\n",
              "      <td>1</td>\n",
              "      <td>1</td>\n",
              "    </tr>\n",
              "    <tr>\n",
              "      <th>11219</th>\n",
              "      <td>No Urgent Place</td>\n",
              "      <td>Partner</td>\n",
              "      <td>Sunny</td>\n",
              "      <td>30</td>\n",
              "      <td>10AM</td>\n",
              "      <td>Restaurant(20-50)</td>\n",
              "      <td>1d</td>\n",
              "      <td>Male</td>\n",
              "      <td>below21</td>\n",
              "      <td>Unmarried partner</td>\n",
              "      <td>...</td>\n",
              "      <td>never</td>\n",
              "      <td>1~3</td>\n",
              "      <td>less1</td>\n",
              "      <td>never</td>\n",
              "      <td>1</td>\n",
              "      <td>0</td>\n",
              "      <td>0</td>\n",
              "      <td>0</td>\n",
              "      <td>1</td>\n",
              "      <td>0</td>\n",
              "    </tr>\n",
              "  </tbody>\n",
              "</table>\n",
              "<p>5 rows × 26 columns</p>\n",
              "</div>\n",
              "      <button class=\"colab-df-convert\" onclick=\"convertToInteractive('df-d9334701-815b-4cf1-9b6e-c04e39b33a8e')\"\n",
              "              title=\"Convert this dataframe to an interactive table.\"\n",
              "              style=\"display:none;\">\n",
              "\n",
              "  <svg xmlns=\"http://www.w3.org/2000/svg\" height=\"24px\"viewBox=\"0 0 24 24\"\n",
              "       width=\"24px\">\n",
              "    <path d=\"M0 0h24v24H0V0z\" fill=\"none\"/>\n",
              "    <path d=\"M18.56 5.44l.94 2.06.94-2.06 2.06-.94-2.06-.94-.94-2.06-.94 2.06-2.06.94zm-11 1L8.5 8.5l.94-2.06 2.06-.94-2.06-.94L8.5 2.5l-.94 2.06-2.06.94zm10 10l.94 2.06.94-2.06 2.06-.94-2.06-.94-.94-2.06-.94 2.06-2.06.94z\"/><path d=\"M17.41 7.96l-1.37-1.37c-.4-.4-.92-.59-1.43-.59-.52 0-1.04.2-1.43.59L10.3 9.45l-7.72 7.72c-.78.78-.78 2.05 0 2.83L4 21.41c.39.39.9.59 1.41.59.51 0 1.02-.2 1.41-.59l7.78-7.78 2.81-2.81c.8-.78.8-2.07 0-2.86zM5.41 20L4 18.59l7.72-7.72 1.47 1.35L5.41 20z\"/>\n",
              "  </svg>\n",
              "      </button>\n",
              "\n",
              "\n",
              "\n",
              "    <div id=\"df-869888c7-4336-4e41-8052-c186eb08778f\">\n",
              "      <button class=\"colab-df-quickchart\" onclick=\"quickchart('df-869888c7-4336-4e41-8052-c186eb08778f')\"\n",
              "              title=\"Suggest charts.\"\n",
              "              style=\"display:none;\">\n",
              "\n",
              "<svg xmlns=\"http://www.w3.org/2000/svg\" height=\"24px\"viewBox=\"0 0 24 24\"\n",
              "     width=\"24px\">\n",
              "    <g>\n",
              "        <path d=\"M19 3H5c-1.1 0-2 .9-2 2v14c0 1.1.9 2 2 2h14c1.1 0 2-.9 2-2V5c0-1.1-.9-2-2-2zM9 17H7v-7h2v7zm4 0h-2V7h2v10zm4 0h-2v-4h2v4z\"/>\n",
              "    </g>\n",
              "</svg>\n",
              "      </button>\n",
              "    </div>\n",
              "\n",
              "<style>\n",
              "  .colab-df-quickchart {\n",
              "    background-color: #E8F0FE;\n",
              "    border: none;\n",
              "    border-radius: 50%;\n",
              "    cursor: pointer;\n",
              "    display: none;\n",
              "    fill: #1967D2;\n",
              "    height: 32px;\n",
              "    padding: 0 0 0 0;\n",
              "    width: 32px;\n",
              "  }\n",
              "\n",
              "  .colab-df-quickchart:hover {\n",
              "    background-color: #E2EBFA;\n",
              "    box-shadow: 0px 1px 2px rgba(60, 64, 67, 0.3), 0px 1px 3px 1px rgba(60, 64, 67, 0.15);\n",
              "    fill: #174EA6;\n",
              "  }\n",
              "\n",
              "  [theme=dark] .colab-df-quickchart {\n",
              "    background-color: #3B4455;\n",
              "    fill: #D2E3FC;\n",
              "  }\n",
              "\n",
              "  [theme=dark] .colab-df-quickchart:hover {\n",
              "    background-color: #434B5C;\n",
              "    box-shadow: 0px 1px 3px 1px rgba(0, 0, 0, 0.15);\n",
              "    filter: drop-shadow(0px 1px 2px rgba(0, 0, 0, 0.3));\n",
              "    fill: #FFFFFF;\n",
              "  }\n",
              "</style>\n",
              "\n",
              "    <script>\n",
              "      async function quickchart(key) {\n",
              "        const containerElement = document.querySelector('#' + key);\n",
              "        const charts = await google.colab.kernel.invokeFunction(\n",
              "            'suggestCharts', [key], {});\n",
              "      }\n",
              "    </script>\n",
              "\n",
              "      <script>\n",
              "\n",
              "function displayQuickchartButton(domScope) {\n",
              "  let quickchartButtonEl =\n",
              "    domScope.querySelector('#df-869888c7-4336-4e41-8052-c186eb08778f button.colab-df-quickchart');\n",
              "  quickchartButtonEl.style.display =\n",
              "    google.colab.kernel.accessAllowed ? 'block' : 'none';\n",
              "}\n",
              "\n",
              "        displayQuickchartButton(document);\n",
              "      </script>\n",
              "      <style>\n",
              "    .colab-df-container {\n",
              "      display:flex;\n",
              "      flex-wrap:wrap;\n",
              "      gap: 12px;\n",
              "    }\n",
              "\n",
              "    .colab-df-convert {\n",
              "      background-color: #E8F0FE;\n",
              "      border: none;\n",
              "      border-radius: 50%;\n",
              "      cursor: pointer;\n",
              "      display: none;\n",
              "      fill: #1967D2;\n",
              "      height: 32px;\n",
              "      padding: 0 0 0 0;\n",
              "      width: 32px;\n",
              "    }\n",
              "\n",
              "    .colab-df-convert:hover {\n",
              "      background-color: #E2EBFA;\n",
              "      box-shadow: 0px 1px 2px rgba(60, 64, 67, 0.3), 0px 1px 3px 1px rgba(60, 64, 67, 0.15);\n",
              "      fill: #174EA6;\n",
              "    }\n",
              "\n",
              "    [theme=dark] .colab-df-convert {\n",
              "      background-color: #3B4455;\n",
              "      fill: #D2E3FC;\n",
              "    }\n",
              "\n",
              "    [theme=dark] .colab-df-convert:hover {\n",
              "      background-color: #434B5C;\n",
              "      box-shadow: 0px 1px 3px 1px rgba(0, 0, 0, 0.15);\n",
              "      filter: drop-shadow(0px 1px 2px rgba(0, 0, 0, 0.3));\n",
              "      fill: #FFFFFF;\n",
              "    }\n",
              "  </style>\n",
              "\n",
              "      <script>\n",
              "        const buttonEl =\n",
              "          document.querySelector('#df-d9334701-815b-4cf1-9b6e-c04e39b33a8e button.colab-df-convert');\n",
              "        buttonEl.style.display =\n",
              "          google.colab.kernel.accessAllowed ? 'block' : 'none';\n",
              "\n",
              "        async function convertToInteractive(key) {\n",
              "          const element = document.querySelector('#df-d9334701-815b-4cf1-9b6e-c04e39b33a8e');\n",
              "          const dataTable =\n",
              "            await google.colab.kernel.invokeFunction('convertToInteractive',\n",
              "                                                     [key], {});\n",
              "          if (!dataTable) return;\n",
              "\n",
              "          const docLinkHtml = 'Like what you see? Visit the ' +\n",
              "            '<a target=\"_blank\" href=https://colab.research.google.com/notebooks/data_table.ipynb>data table notebook</a>'\n",
              "            + ' to learn more about interactive tables.';\n",
              "          element.innerHTML = '';\n",
              "          dataTable['output_type'] = 'display_data';\n",
              "          await google.colab.output.renderOutput(dataTable, element);\n",
              "          const docLink = document.createElement('div');\n",
              "          docLink.innerHTML = docLinkHtml;\n",
              "          element.appendChild(docLink);\n",
              "        }\n",
              "      </script>\n",
              "    </div>\n",
              "  </div>\n"
            ]
          },
          "metadata": {},
          "execution_count": 9
        }
      ],
      "source": [
        "data.sample(5)"
      ]
    },
    {
      "cell_type": "code",
      "source": [
        "# Convert 'age' column to numeric format\n",
        "data['age'] = data['age'].astype('category')\n",
        "# Create box plot for age\n",
        "# Create bar plot for age\n",
        "sns.countplot(data=data, x='age')\n",
        "plt.show()"
      ],
      "metadata": {
        "colab": {
          "base_uri": "https://localhost:8080/",
          "height": 449
        },
        "id": "S9lo_GEHYxwJ",
        "outputId": "d7a5813f-6ca9-42f4-cd06-50d8f9b3cfc5"
      },
      "execution_count": 10,
      "outputs": [
        {
          "output_type": "display_data",
          "data": {
            "text/plain": [
              "<Figure size 640x480 with 1 Axes>"
            ],
            "image/png": "[encoded data removed]"
          },
          "metadata": {}
        }
      ]
    },
    {
      "cell_type": "markdown",
      "metadata": {
        "id": "18I3yUOvLWzO"
      },
      "source": [
        "## **4. What proportion of the total observations chose to accept the coupon?**\n",
        "\n"
      ]
    },
    {
      "cell_type": "code",
      "source": [
        "# Calculate the proportion of observations that accepted the coupon\n",
        "coupon_acceptance_proportion = data['Y'].mean()\n",
        "print(\"Proportion of observations that accepted the coupon:\", coupon_acceptance_proportion)"
      ],
      "metadata": {
        "colab": {
          "base_uri": "https://localhost:8080/"
        },
        "id": "I4_9mGPTYPkf",
        "outputId": "1fd46da0-32a5-4b34-82b1-32bd91f8ced4"
      },
      "execution_count": 11,
      "outputs": [
        {
          "output_type": "stream",
          "name": "stdout",
          "text": [
            "Proportion of observations that accepted the coupon: 0.5684326710816777\n"
          ]
        }
      ]
    },
    {
      "cell_type": "code",
      "source": [
        "# Calculate the coupon acceptance proportion by gender\n",
        "acceptance_by_gender = data.groupby('gender')['Y'].mean()\n",
        "print(\"Breakdown of Coupon Acceptance by Gender:\")\n",
        "print(acceptance_by_gender)"
      ],
      "metadata": {
        "colab": {
          "base_uri": "https://localhost:8080/"
        },
        "id": "_KwlXWAOYx0Q",
        "outputId": "90f3258c-4ff7-4ebc-8c3d-cefa6ae9eb23"
      },
      "execution_count": 12,
      "outputs": [
        {
          "output_type": "stream",
          "name": "stdout",
          "text": [
            "Breakdown of Coupon Acceptance by Gender:\n",
            "gender\n",
            "Female    0.547228\n",
            "Male      0.590799\n",
            "Name: Y, dtype: float64\n"
          ]
        }
      ]
    },
    {
      "cell_type": "code",
      "execution_count": 13,
      "metadata": {
        "colab": {
          "base_uri": "https://localhost:8080/"
        },
        "id": "vxh53HxBLWzO",
        "outputId": "b3f6c917-afa9-4101-fcec-737dd742beca"
      },
      "outputs": [
        {
          "output_type": "stream",
          "name": "stdout",
          "text": [
            "Breakdown of Coupon Acceptance by Age Group:\n",
            "age_group\n",
            "below 21         NaN\n",
            "21 to 25    0.598191\n",
            "26 to 30    0.595936\n",
            "31 to 35    0.546346\n",
            "36 to 40    0.535254\n",
            "41 to 50    0.573918\n",
            "50plus           NaN\n",
            "Name: Y, dtype: float64\n"
          ]
        }
      ],
      "source": [
        "# Calculate the coupon acceptance proportion by age group\n",
        "data['age'] = pd.to_numeric(data['age'], errors='coerce')\n",
        "age_groups = ['below 21', '21 to 25', '26 to 30', '31 to 35', '36 to 40', '41 to 50', '50plus']\n",
        "data['age_group'] = pd.cut(data['age'], bins=[0, 20, 25, 30, 35, 40, 50, float('inf')], labels=age_groups)\n",
        "acceptance_by_age_group = data.groupby('age_group')['Y'].mean()\n",
        "print(\"Breakdown of Coupon Acceptance by Age Group:\")\n",
        "print(acceptance_by_age_group)"
      ]
    },
    {
      "cell_type": "markdown",
      "metadata": {
        "id": "DoCnhq-HLWzO"
      },
      "source": [
        "## **5. Use a bar plot to visualize the `coupon` column.**"
      ]
    },
    {
      "cell_type": "code",
      "execution_count": 14,
      "metadata": {
        "colab": {
          "base_uri": "https://localhost:8080/",
          "height": 472
        },
        "id": "tZGZakcULWzO",
        "outputId": "4e4ad425-723d-4afb-d669-dda17a21ee66"
      },
      "outputs": [
        {
          "output_type": "display_data",
          "data": {
            "text/plain": [
              "<Figure size 640x480 with 1 Axes>"
            ],
            "image/png": "[encoded data removed]"
          },
          "metadata": {}
        }
      ],
      "source": [
        "# Create a bar plot for coupon acceptance with the custom color palette\n",
        "custom_palette = ['darkblue', 'skyblue']\n",
        "sns.countplot(data=data, x='Y', palette=custom_palette)\n",
        "plt.xlabel('Coupon Acceptance')\n",
        "plt.ylabel('Count')\n",
        "plt.title('Coupon Acceptance Distribution')\n",
        "plt.show()"
      ]
    },
    {
      "cell_type": "code",
      "source": [
        "# Create a bar plot of coupon acceptance by gender with the custom color palette\n",
        "custom_palette = ['darkblue', 'skyblue']\n",
        "sns.countplot(data=data, x='gender', hue='Y', palette=custom_palette)\n",
        "plt.xlabel('Gender')\n",
        "plt.ylabel('Count')\n",
        "plt.title('Coupon Acceptance by Gender')\n",
        "plt.legend(['Rejected', 'Accepted'])\n",
        "plt.show()"
      ],
      "metadata": {
        "colab": {
          "base_uri": "https://localhost:8080/",
          "height": 472
        },
        "id": "ZnT-j5EUl7E7",
        "outputId": "6fb055ac-ae55-445c-bcb4-69289495e1f8"
      },
      "execution_count": 15,
      "outputs": [
        {
          "output_type": "display_data",
          "data": {
            "text/plain": [
              "<Figure size 640x480 with 1 Axes>"
            ],
            "image/png": "[encoded data removed]"
          },
          "metadata": {}
        }
      ]
    },
    {
      "cell_type": "code",
      "source": [
        "# Create a bar plot of coupon acceptance by age group with the custom color palette\n",
        "custom_palette = ['darkblue', 'skyblue']\n",
        "sns.countplot(data=data, x='age_group', hue='Y', palette=custom_palette)\n",
        "plt.xlabel('Age Group')\n",
        "plt.ylabel('Count')\n",
        "plt.title('Coupon Acceptance by Age Group')\n",
        "plt.legend(['Rejected', 'Accepted'])\n",
        "plt.xticks(rotation=45)\n",
        "plt.show()"
      ],
      "metadata": {
        "colab": {
          "base_uri": "https://localhost:8080/",
          "height": 512
        },
        "id": "870yDUHMl7Jl",
        "outputId": "3fb618d4-4ec8-4303-8646-8e6a84d541ff"
      },
      "execution_count": 16,
      "outputs": [
        {
          "output_type": "display_data",
          "data": {
            "text/plain": [
              "<Figure size 640x480 with 1 Axes>"
            ],
            "image/png": "[encoded data removed]"
          },
          "metadata": {}
        }
      ]
    },
    {
      "cell_type": "markdown",
      "metadata": {
        "id": "s4UwKRmSLWzO"
      },
      "source": [
        "## **6. Use a histogram to visualize the temperature column.**"
      ]
    },
    {
      "cell_type": "code",
      "execution_count": 17,
      "metadata": {
        "colab": {
          "base_uri": "https://localhost:8080/",
          "height": 472
        },
        "id": "xCjJcTKzLWzO",
        "outputId": "06f9463f-2851-492e-d3c1-df7d11dade3a"
      },
      "outputs": [
        {
          "output_type": "display_data",
          "data": {
            "text/plain": [
              "<Figure size 640x480 with 1 Axes>"
            ],
            "image/png": "[encoded data removed]"
          },
          "metadata": {}
        }
      ],
      "source": [
        "# Create a histogram for the temperature column with dark blue color\n",
        "plt.hist(data['temperature'], bins=10, edgecolor='black', color='darkblue')\n",
        "plt.xlabel('Temperature')\n",
        "plt.ylabel('Frequency')\n",
        "plt.title('Temperature Distribution')\n",
        "plt.show()"
      ]
    },
    {
      "cell_type": "code",
      "execution_count": 18,
      "metadata": {
        "colab": {
          "base_uri": "https://localhost:8080/"
        },
        "id": "KZJiuCfpLWzO",
        "outputId": "dfc70a4f-f71c-48de-a790-6a6c48a5f221"
      },
      "outputs": [
        {
          "output_type": "stream",
          "name": "stdout",
          "text": [
            "Minimum Temperature: 30\n",
            "Maximum Temperature: 80\n",
            "Average Temperature: 63.301797540208135\n"
          ]
        }
      ],
      "source": [
        "min_temp = data['temperature'].min()\n",
        "max_temp = data['temperature'].max()\n",
        "avg_temp = data['temperature'].mean()\n",
        "\n",
        "print(\"Minimum Temperature:\", min_temp)\n",
        "print(\"Maximum Temperature:\", max_temp)\n",
        "print(\"Average Temperature:\", avg_temp)"
      ]
    },
    {
      "cell_type": "code",
      "execution_count": 19,
      "metadata": {
        "colab": {
          "base_uri": "https://localhost:8080/",
          "height": 472
        },
        "id": "LVph-egwLWzO",
        "outputId": "72183d33-a4c7-4be7-eeb8-3bc8fa470a93"
      },
      "outputs": [
        {
          "output_type": "display_data",
          "data": {
            "text/plain": [
              "<Figure size 640x480 with 1 Axes>"
            ],
            "image/png": "[encoded data removed]"
          },
          "metadata": {}
        }
      ],
      "source": [
        "# Create temperature ranges\n",
        "temperature_ranges = ['<40F', '40F-60F', '60F-80F', '>80F']\n",
        "data['temperature_range'] = pd.cut(data['temperature'], bins=[-float('inf'), 40, 60, 80, float('inf')], labels=temperature_ranges)\n",
        "average_acceptance_by_temperature = data.groupby('temperature_range')['Y'].mean()\n",
        "\n",
        "# Create a bar plot of average coupon acceptance by temperature range\n",
        "sns.barplot(x=average_acceptance_by_temperature.index, y=average_acceptance_by_temperature.values, color='darkblue')\n",
        "plt.xlabel('Temperature Range')\n",
        "plt.ylabel('Average Coupon Acceptance')\n",
        "plt.title('Average Coupon Acceptance by Temperature Range')\n",
        "plt.show()\n"
      ]
    },
    {
      "cell_type": "markdown",
      "metadata": {
        "id": "YjiJrbzdLWzO"
      },
      "source": [
        "### **Investigating the Bar Coupons**\n",
        "\n",
        "Now, we will lead you through an exploration of just the bar related coupons.  \n",
        "\n",
        "### **1. Create a new `DataFrame` that contains just the bar coupons.**\n"
      ]
    },
    {
      "cell_type": "code",
      "execution_count": 20,
      "metadata": {
        "colab": {
          "base_uri": "https://localhost:8080/"
        },
        "id": "_inrq26oLWzO",
        "outputId": "3b9302de-5e3b-47e1-be42-d626f082a3e5"
      },
      "outputs": [
        {
          "output_type": "stream",
          "name": "stdout",
          "text": [
            "           destination  passanger weather  temperature  time coupon  \\\n",
            "9      No Urgent Place     Kid(s)   Sunny           80  10AM    Bar   \n",
            "13                Home      Alone   Sunny           55   6PM    Bar   \n",
            "17                Work      Alone   Sunny           55   7AM    Bar   \n",
            "24     No Urgent Place  Friend(s)   Sunny           80  10AM    Bar   \n",
            "35                Home      Alone   Sunny           55   6PM    Bar   \n",
            "...                ...        ...     ...          ...   ...    ...   \n",
            "12663  No Urgent Place  Friend(s)   Sunny           80  10PM    Bar   \n",
            "12664  No Urgent Place  Friend(s)   Sunny           55  10PM    Bar   \n",
            "12667  No Urgent Place      Alone   Rainy           55  10AM    Bar   \n",
            "12670  No Urgent Place    Partner   Rainy           55   6PM    Bar   \n",
            "12682             Work      Alone   Snowy           30   7AM    Bar   \n",
            "\n",
            "      expiration  gender   age      maritalStatus  ...  RestaurantLessThan20  \\\n",
            "9             1d  Female  21.0  Unmarried partner  ...                   4~8   \n",
            "13            1d  Female  21.0  Unmarried partner  ...                   4~8   \n",
            "17            1d  Female  21.0  Unmarried partner  ...                   4~8   \n",
            "24            1d    Male  21.0             Single  ...                   4~8   \n",
            "35            1d    Male  21.0             Single  ...                   4~8   \n",
            "...          ...     ...   ...                ...  ...                   ...   \n",
            "12663         1d    Male  26.0             Single  ...                   4~8   \n",
            "12664         2h    Male  26.0             Single  ...                   4~8   \n",
            "12667         1d    Male  26.0             Single  ...                   4~8   \n",
            "12670         2h    Male  26.0             Single  ...                   4~8   \n",
            "12682         1d    Male  26.0             Single  ...                   4~8   \n",
            "\n",
            "      Restaurant20To50 toCoupon_GEQ5min toCoupon_GEQ15min toCoupon_GEQ25min  \\\n",
            "9                  1~3                1                 1                 0   \n",
            "13                 1~3                1                 0                 0   \n",
            "17                 1~3                1                 1                 1   \n",
            "24               less1                1                 0                 0   \n",
            "35               less1                1                 0                 0   \n",
            "...                ...              ...               ...               ...   \n",
            "12663              1~3                1                 1                 0   \n",
            "12664              1~3                1                 1                 0   \n",
            "12667              1~3                1                 1                 0   \n",
            "12670              1~3                1                 1                 0   \n",
            "12682              1~3                1                 1                 1   \n",
            "\n",
            "      direction_same direction_opp  Y age_group temperature_range  \n",
            "9                  0             1  0  21 to 25           60F-80F  \n",
            "13                 1             0  1  21 to 25           40F-60F  \n",
            "17                 0             1  0  21 to 25           40F-60F  \n",
            "24                 0             1  1  21 to 25           60F-80F  \n",
            "35                 1             0  1  21 to 25           40F-60F  \n",
            "...              ...           ... ..       ...               ...  \n",
            "12663              0             1  0  26 to 30           60F-80F  \n",
            "12664              0             1  0  26 to 30           40F-60F  \n",
            "12667              0             1  0  26 to 30           40F-60F  \n",
            "12670              0             1  0  26 to 30           40F-60F  \n",
            "12682              0             1  0  26 to 30              <40F  \n",
            "\n",
            "[2017 rows x 28 columns]\n"
          ]
        }
      ],
      "source": [
        "# Filter the DataFrame to include only bar coupons\n",
        "bar_coupons_df = data[data['coupon'] == 'Bar']\n",
        "print(bar_coupons_df)"
      ]
    },
    {
      "cell_type": "markdown",
      "metadata": {
        "id": "SJtXyEeaLWzP"
      },
      "source": [
        "### **2. What proportion of bar coupons were accepted?**\n"
      ]
    },
    {
      "cell_type": "code",
      "execution_count": 21,
      "metadata": {
        "colab": {
          "base_uri": "https://localhost:8080/"
        },
        "id": "VHxu_-5nLWzP",
        "outputId": "4d774cb8-42d1-4557-a805-5c783c6efbf2"
      },
      "outputs": [
        {
          "output_type": "stream",
          "name": "stdout",
          "text": [
            "Proportion of Bar Coupons Accepted: 0.41001487357461575\n"
          ]
        }
      ],
      "source": [
        "# Calculate the proportion of bar coupons that were accepted\n",
        "bar_coupon_acceptance_proportion = bar_coupons_df['Y'].mean()\n",
        "print(\"Proportion of Bar Coupons Accepted:\", bar_coupon_acceptance_proportion)"
      ]
    },
    {
      "cell_type": "markdown",
      "metadata": {
        "id": "n6MCXVr-LWzP"
      },
      "source": [
        "### **3. Compare the acceptance rate between those who went to a bar 3 or fewer times a month to those who went more.**\n"
      ]
    },
    {
      "cell_type": "code",
      "execution_count": 22,
      "metadata": {
        "colab": {
          "base_uri": "https://localhost:8080/"
        },
        "id": "G98-MjLqLWzP",
        "outputId": "0fb7d32b-7855-4373-f3df-e7f255af4b4b"
      },
      "outputs": [
        {
          "output_type": "stream",
          "name": "stdout",
          "text": [
            "Acceptance Rate for 3 or Fewer Bar Visits: nan\n",
            "Acceptance Rate for More Than 3 Bar Visits: nan\n"
          ]
        }
      ],
      "source": [
        "# Calculate the acceptance rate for each group\n",
        "data['Bar'] = pd.to_numeric(data['Bar'], errors='coerce')\n",
        "bar_3_or_fewer_df = data[data['Bar'] <= 3]\n",
        "bar_more_than_3_df = data[data['Bar'] > 3]\n",
        "acceptance_rate_3_or_fewer = bar_3_or_fewer_df['Y'].mean()\n",
        "acceptance_rate_more_than_3 = bar_more_than_3_df['Y'].mean()\n",
        "\n",
        "print(\"Acceptance Rate for 3 or Fewer Bar Visits:\", acceptance_rate_3_or_fewer)\n",
        "print(\"Acceptance Rate for More Than 3 Bar Visits:\", acceptance_rate_more_than_3)"
      ]
    },
    {
      "cell_type": "markdown",
      "metadata": {
        "id": "dzYg78XELWzP"
      },
      "source": [
        "**4. Compare the acceptance rate between drivers who go to a bar more than once a month and are over the age of 25 to the all others.  Is there a difference?**\n"
      ]
    },
    {
      "cell_type": "code",
      "execution_count": 23,
      "metadata": {
        "colab": {
          "base_uri": "https://localhost:8080/"
        },
        "id": "_Xl1wCZeLWzP",
        "outputId": "3c386add-9094-4630-e39d-49645c95a578"
      },
      "outputs": [
        {
          "output_type": "stream",
          "name": "stdout",
          "text": [
            "Acceptance Rate for Drivers Who Go to a Bar More Than Once a Month and Are Over 25: nan\n",
            "Acceptance Rate for All Other Drivers: 0.5981907274783265\n"
          ]
        }
      ],
      "source": [
        "# Calculate the acceptance rate for each group\n",
        "drivers_bar_more_than_once_over_25_df = data[(data['Bar'] > 1) & (data['age'] > 25)]\n",
        "all_other_drivers_df = data[(data['Bar'] <= 1) | (data['age'] <= 25)]\n",
        "acceptance_rate_bar_more_than_once_over_25 = drivers_bar_more_than_once_over_25_df['Y'].mean()\n",
        "acceptance_rate_all_other_drivers = all_other_drivers_df['Y'].mean()\n",
        "\n",
        "print(\"Acceptance Rate for Drivers Who Go to a Bar More Than Once a Month and Are Over 25:\", acceptance_rate_bar_more_than_once_over_25)\n",
        "print(\"Acceptance Rate for All Other Drivers:\", acceptance_rate_all_other_drivers)"
      ]
    },
    {
      "cell_type": "markdown",
      "metadata": {
        "id": "IN91tPyYLWzP"
      },
      "source": [
        "**5. Use the same process to compare the acceptance rate between drivers who go to bars more than once a month and had passengers that were not a kid and had occupations other than farming, fishing, or forestry.**\n"
      ]
    },
    {
      "cell_type": "code",
      "execution_count": 24,
      "metadata": {
        "colab": {
          "base_uri": "https://localhost:8080/"
        },
        "id": "i2JQ9J52LWzP",
        "outputId": "9109974a-6615-457d-d79d-64613b7a34d8"
      },
      "outputs": [
        {
          "output_type": "stream",
          "name": "stdout",
          "text": [
            "Acceptance Rate for Drivers Who Go to Bars More Than Once a Month and Meet the Criteria: nan\n",
            "Acceptance Rate for All Drivers: 0.5684326710816777\n"
          ]
        }
      ],
      "source": [
        "# Filter the DataFrame for drivers by categories and calculate the acceptance\n",
        "filtered_df = data[(data['Bar'] > 1) & (data['passanger'] != 'Kid(s)') & (~data['occupation'].isin(['farming', 'fishing', 'forestry']))]\n",
        "acceptance_rate_filtered = filtered_df['Y'].mean()\n",
        "acceptance_rate_all_drivers = data['Y'].mean()\n",
        "\n",
        "# Print the acceptance rates for comparison\n",
        "print(\"Acceptance Rate for Drivers Who Go to Bars More Than Once a Month and Meet the Criteria:\", acceptance_rate_filtered)\n",
        "print(\"Acceptance Rate for All Drivers:\", acceptance_rate_all_drivers)\n"
      ]
    },
    {
      "cell_type": "markdown",
      "metadata": {
        "id": "CNjtPLqWLWzP"
      },
      "source": [
        "**6. Compare the acceptance rates between those drivers who:**\n",
        "\n",
        "- go to bars more than once a month, had passengers that were not a kid, and were not widowed *OR*\n",
        "- go to bars more than once a month and are under the age of 30 *OR*\n",
        "- go to cheap restaurants more than 4 times a month and income is less than 50K.\n",
        "\n"
      ]
    },
    {
      "cell_type": "code",
      "execution_count": 25,
      "metadata": {
        "colab": {
          "base_uri": "https://localhost:8080/"
        },
        "id": "k8hGf9c1LWzP",
        "outputId": "3bd31b94-20b9-40eb-a14d-64d3941fefea"
      },
      "outputs": [
        {
          "output_type": "stream",
          "name": "stdout",
          "text": [
            "Acceptance Rate for Group 1: nan\n",
            "Acceptance Rate for Group 2: nan\n",
            "Acceptance Rate for Group 3: nan\n"
          ]
        }
      ],
      "source": [
        "# Convert 'RestaurantLessThan20' column to numeric format\n",
        "data['RestaurantLessThan20'] = pd.to_numeric(data['RestaurantLessThan20'], errors='coerce')\n",
        "\n",
        "# Filter the DataFrame for drivers who go to bars more than once a month, had passengers that were not kids, and were not widowed\n",
        "group1_df = data[(data['Bar'] > 1) & (data['has_children'] != 1) & (data['maritalStatus'] != 'widowed')]\n",
        "\n",
        "# Filter the DataFrame for drivers who go to bars more than once a month and are under the age of 30\n",
        "group2_df = data[(data['Bar'] > 1) & (data['age'] < 30)]\n",
        "\n",
        "# Filter the DataFrame for drivers who go to cheap restaurants more than 4 times a month and have an income less than 50K\n",
        "group3_df = data[(data['RestaurantLessThan20'] > 4) & (data['income'] == 'less than $50K')]\n",
        "\n",
        "# Calculate the acceptance rates for each group\n",
        "acceptance_rate_group1 = group1_df['Y'].mean()\n",
        "acceptance_rate_group2 = group2_df['Y'].mean()\n",
        "acceptance_rate_group3 = group3_df['Y'].mean()\n",
        "\n",
        "# Print the acceptance rates for comparison\n",
        "print(\"Acceptance Rate for Group 1:\", acceptance_rate_group1)\n",
        "print(\"Acceptance Rate for Group 2:\", acceptance_rate_group2)\n",
        "print(\"Acceptance Rate for Group 3:\", acceptance_rate_group3)"
      ]
    },
    {
      "cell_type": "markdown",
      "metadata": {
        "id": "Gxk6jfkzLWzP"
      },
      "source": [
        "**7.  Based on these observations, what do you hypothesize about drivers who accepted the bar coupons?**"
      ]
    },
    {
      "cell_type": "markdown",
      "source": [
        "Based on the observations, it appears that drivers who accepted the bar coupons were more likely to be younger (under the age of 30), go to bars more frequently (more than once a month), and have occupations other than farming, fishing, or forestry. Additionally, they were less likely to have children and be widowed.\n",
        "\n",
        "Based on these observations, we can hypothesize that **drivers who accepted the bar coupons may be more inclined towards social activities, such as going to bars, and may have a lifestyle that aligns with frequent bar visits.** They may also be more open to trying new experiences and exploring different venues."
      ],
      "metadata": {
        "id": "d1IgX3Q5uxiG"
      }
    },
    {
      "cell_type": "markdown",
      "metadata": {
        "id": "jeopRYelLWzP"
      },
      "source": [
        "### **Independent Investigation**\n",
        "\n",
        "Using the bar coupon example as motivation, you are to explore one of the other coupon groups and try to determine the characteristics of passengers who accept the coupons.  "
      ]
    },
    {
      "cell_type": "markdown",
      "source": [
        "**Creating a new DataFrame containing only the coffee house coupons**"
      ],
      "metadata": {
        "id": "l_2x3JFsvejl"
      }
    },
    {
      "cell_type": "code",
      "execution_count": 26,
      "metadata": {
        "colab": {
          "base_uri": "https://localhost:8080/",
          "height": 489
        },
        "id": "uWQYXSICLWzP",
        "outputId": "30684818-5bc5-4050-9c23-d97400d47fcc"
      },
      "outputs": [
        {
          "output_type": "stream",
          "name": "stdout",
          "text": [
            "Proportion of Coffee House Coupons Accepted: 0.49924924924924924\n"
          ]
        },
        {
          "output_type": "display_data",
          "data": {
            "text/plain": [
              "<Figure size 640x480 with 1 Axes>"
            ],
            "image/png": "[encoded data removed]"
          },
          "metadata": {}
        }
      ],
      "source": [
        "# Create a new DataFrame containing only the coffee house coupons\n",
        "coffee_house_df = data[data['coupon'] == 'Coffee House'].copy()\n",
        "\n",
        "# Calculate the proportion of coffee house coupons that were accepted\n",
        "coffee_house_acceptance_proportion = coffee_house_df['Y'].mean()\n",
        "\n",
        "# Print the proportion of coffee house coupons that were accepted\n",
        "print(\"Proportion of Coffee House Coupons Accepted:\", coffee_house_acceptance_proportion)\n",
        "\n",
        "# Example: Gender\n",
        "gender_proportions = coffee_house_df['gender'].value_counts(normalize=True)\n",
        "gender_acceptance_proportions = coffee_house_df.groupby('gender')['Y'].mean()\n",
        "\n",
        "# Example: Bar plot of gender and acceptance proportions\n",
        "sns.barplot(x=gender_proportions.index, y=gender_acceptance_proportions.values, color='skyblue')\n",
        "plt.xlabel('Gender')\n",
        "plt.ylabel('Proportion Accepted')\n",
        "plt.title('Proportion of Coffee House Coupons Accepted by Gender')\n",
        "plt.show()"
      ]
    },
    {
      "cell_type": "code",
      "execution_count": 27,
      "metadata": {
        "colab": {
          "base_uri": "https://localhost:8080/",
          "height": 927
        },
        "id": "hH4tG1e7LWzQ",
        "outputId": "ad4ea366-f457-4d06-e8ba-77cc16ec6cfa"
      },
      "outputs": [
        {
          "output_type": "display_data",
          "data": {
            "text/plain": [
              "<Figure size 640x480 with 1 Axes>"
            ],
            "image/png": "[encoded data removed]"
          },
          "metadata": {}
        },
        {
          "output_type": "display_data",
          "data": {
            "text/plain": [
              "<Figure size 640x480 with 1 Axes>"
            ],
            "image/png": "[encoded data removed]"
          },
          "metadata": {}
        }
      ],
      "source": [
        "# proportion of coffee house coupons by gender\n",
        "gender_counts = coffee_house_df['gender'].value_counts()\n",
        "gender_acceptance_counts = coffee_house_df.groupby('gender')['Y'].sum()\n",
        "\n",
        "# proportion of coffee house coupons by Age Group\n",
        "age_group_counts = coffee_house_df['age'].value_counts()\n",
        "age_group_acceptance_counts = coffee_house_df.groupby('age')['Y'].sum()\n",
        "\n",
        "# Filter out age groups with zero acceptance counts\n",
        "age_groups = age_group_acceptance_counts.index[age_group_acceptance_counts > 0]\n",
        "\n",
        "# Example: Bar plot of gender and acceptance\n",
        "sns.barplot(x=gender_counts.index, y=gender_acceptance_counts.values, color='skyblue')\n",
        "plt.xlabel('Gender')\n",
        "plt.ylabel('Count')\n",
        "plt.title('Coupon Acceptance by Gender')\n",
        "plt.show()\n",
        "\n",
        "# Example: Bar plot of age group and acceptance\n",
        "sns.barplot(x=age_groups, y=age_group_acceptance_counts.loc[age_groups], color='skyblue')\n",
        "plt.xlabel('Age Group')\n",
        "plt.ylabel('Count')\n",
        "plt.title('Coupon Acceptance by Age Group')\n",
        "plt.show()"
      ]
    },
    {
      "cell_type": "markdown",
      "source": [
        "**Gender:** The bar plot of coupon acceptance by gender reveals the proportion of coffee house coupons accepted by each gender. This visualization allows us to compare the acceptance rates between different genders. It may provide insights into whether there are any gender-specific preferences or behaviors related to accepting coffee house coupons.\n",
        "\n",
        "**Age Group**: The bar plot of coupon acceptance by age group shows the proportion of coffee house coupons accepted within each age group. By analyzing the acceptance rates across different age groups, we can identify any patterns or trends. This information could be valuable for targeting specific age groups with coupon promotions or understanding age-related preferences in coffee house visits."
      ],
      "metadata": {
        "id": "69KX-ocZ61kq"
      }
    },
    {
      "cell_type": "markdown",
      "source": [
        "**Investigation: Analysis of Coupon Acceptance by Weather Conditions**"
      ],
      "metadata": {
        "id": "m4GCl8tF5w0Y"
      }
    },
    {
      "cell_type": "code",
      "execution_count": 28,
      "metadata": {
        "colab": {
          "base_uri": "https://localhost:8080/",
          "height": 472
        },
        "id": "WvcyTjS3LWzQ",
        "outputId": "7c03cd1a-3833-4d8c-de37-a6c3d87f1de8"
      },
      "outputs": [
        {
          "output_type": "display_data",
          "data": {
            "text/plain": [
              "<Figure size 640x480 with 1 Axes>"
            ],
            "image/png": "[encoded data removed]"
          },
          "metadata": {}
        }
      ],
      "source": [
        "# Filter the dataset to include only accepted coupons\n",
        "accepted_coupons_df = data[data['Y'] == 1]\n",
        "\n",
        "# Group the data by weather conditions and calculate the count of coupon acceptances\n",
        "weather_counts = accepted_coupons_df['weather'].value_counts()\n",
        "\n",
        "# Visualize the coupon acceptance counts by weather conditions\n",
        "sns.barplot(x=weather_counts.index, y=weather_counts.values, color='skyblue')\n",
        "plt.xlabel('Weather Conditions')\n",
        "plt.ylabel('Coupon Acceptance Count')\n",
        "plt.title('Coupon Acceptance by Weather Conditions')\n",
        "plt.show()"
      ]
    },
    {
      "cell_type": "markdown",
      "source": [
        "Weather conditions have an impact on coupon acceptance. For example, the bar plot shows that more coupons are accepted on sunny days compared to rainy or snowy days. This suggests that people may be more inclined to use coupons when the weather is favorable and they are more likely to go out.\n",
        "\n",
        "This observation highlights the importance of considering external factors, such as weather conditions, when analyzing coupon acceptance. Businesses could take advantage of this information by targeting their coupon promotions during periods of favorable weather to increase the likelihood of acceptance and customer visits."
      ],
      "metadata": {
        "id": "QUEhV9BI6c2P"
      }
    },
    {
      "cell_type": "markdown",
      "source": [
        "**Investigation: Analysis of Coupon Acceptance by Driving Destination**"
      ],
      "metadata": {
        "id": "p_JzzOEv7fQ0"
      }
    },
    {
      "cell_type": "code",
      "execution_count": 29,
      "metadata": {
        "colab": {
          "base_uri": "https://localhost:8080/",
          "height": 428
        },
        "id": "d7H_bEV_LWze",
        "outputId": "a9edecce-c840-4580-ed6b-9aae84f72ed3"
      },
      "outputs": [
        {
          "output_type": "display_data",
          "data": {
            "text/plain": [
              "<Figure size 640x480 with 1 Axes>"
            ],
            "image/png": "[encoded data removed]"
          },
          "metadata": {}
        }
      ],
      "source": [
        "# Step 1: Group the data by driving destination and calculate the proportion of accepted coupons\n",
        "coupon_acceptance_by_destination = data.groupby('destination')['Y'].mean()\n",
        "\n",
        "# Step 2: Visualize the coupon acceptance proportions by driving destination\n",
        "plt.pie(coupon_acceptance_by_destination, labels=coupon_acceptance_by_destination.index, autopct='%1.1f%%', colors=['skyblue', 'lightgreen', 'lightcoral'])\n",
        "plt.title('Coupon Acceptance by Driving Destination')\n",
        "plt.show()"
      ]
    },
    {
      "cell_type": "markdown",
      "source": [
        "This observation suggests that drivers who are either commuting to or from This observation suggests that drivers with no specific urgent destination are more likely to accept and utilize coupons compared to drivers with a home or work destination. It indicates that drivers who are not on a specific schedule or have a defined purpose for their trip may be more open to taking advantage of coupon offers.\n",
        "\n",
        "This insight can help businesses target their coupon promotions towards drivers with no urgent destination, as they have the highest acceptance rates. By focusing on this group of drivers, businesses can tailor their marketing strategies and coupon offerings to increase customer engagement and coupon utilization."
      ],
      "metadata": {
        "id": "5JWT_uld8OjT"
      }
    },
    {
      "cell_type": "markdown",
      "source": [
        "**Investigation: Analysis of Coupon Acceptance by Weather and Time of Day**"
      ],
      "metadata": {
        "id": "XhRupGiE9V1m"
      }
    },
    {
      "cell_type": "code",
      "execution_count": 30,
      "metadata": {
        "colab": {
          "base_uri": "https://localhost:8080/",
          "height": 503
        },
        "id": "vKJGfTlZLWze",
        "outputId": "95f47e63-d17b-4c98-f1f1-97d71ddf0320"
      },
      "outputs": [
        {
          "output_type": "display_data",
          "data": {
            "text/plain": [
              "<Figure size 640x480 with 1 Axes>"
            ],
            "image/png": "[encoded data removed]"
          },
          "metadata": {}
        }
      ],
      "source": [
        "# Group the data by weather and time of day\n",
        "coupon_acceptance_by_weather_time = data.groupby(['weather', 'time'])['Y'].mean().unstack()\n",
        "\n",
        "# Visualize the coupon acceptance proportions\n",
        "coupon_acceptance_by_weather_time.plot(kind='bar', stacked=True, colormap='coolwarm')\n",
        "plt.xlabel('Weather')\n",
        "plt.ylabel('Coupon Acceptance Proportion')\n",
        "plt.title('Coupon Acceptance by Weather and Time of Day')\n",
        "plt.legend(title='Time of Day', bbox_to_anchor=(1.02, 1), loc='upper left')\n",
        "plt.show()"
      ]
    },
    {
      "cell_type": "markdown",
      "source": [
        "The coupon acceptance rate varies depending on the combination of weather conditions and time of day.\n",
        "\n",
        "* During sunny weather, the acceptance rate is generally higher in the afternoon compared to the morning and evening.\n",
        "\n",
        "* In rainy weather, the acceptance rate is highest in the morning and decreases in the afternoon and evening.\n",
        "\n",
        "* During snowy weather, the acceptance rate is relatively consistent throughout the day.\n",
        "\n",
        "This observation suggests that weather conditions and time of day can impact the likelihood of drivers accepting coupons. It implies that drivers may be more receptive to coupon offers during specific weather conditions and times of day."
      ],
      "metadata": {
        "id": "_QhmRvqi-Coe"
      }
    },
    {
      "cell_type": "markdown",
      "source": [
        "### **Summary Notes:**"
      ],
      "metadata": {
        "id": "7tbNRwea__L1"
      }
    },
    {
      "cell_type": "markdown",
      "source": [
        "**Findings:**\n",
        "\n",
        "Based on the analysis, the key observations are as follows:\n",
        "\n",
        "* Gender: Females have a slightly higher acceptance rate for coffee house coupons compared to males.\n",
        "\n",
        "* Age Group: Younger age groups (below 21) and older age groups (50 plus) tend to have lower acceptance rates, while the middle age groups (21 to 50) have higher acceptance rates.\n",
        "\n",
        "**Actionable Items:**\n",
        "\n",
        "* Targeting Females: Businesses can consider tailoring their marketing strategies and promotions for coffee house coupons to appeal more to females, as they show a higher acceptance rate.\n",
        "\n",
        "* Focus on Middle Age Groups: To maximize coupon acceptance, businesses can design targeted campaigns and offers for the middle age groups (21 to 50), as they exhibit higher acceptance rates.\n",
        "\n",
        "**Next Steps and Recommendations:**\n",
        "\n",
        "* Further analysis can be conducted to explore the interaction effects between different variables and their impact on coupon acceptance.\n",
        "Collecting additional data on factors like customer preferences, interests, and buying behavior can provide deeper insights into the characteristics of customers who are more likely to accept coffee house coupons.\n",
        "\n",
        "* It is recommended to evaluate the effectiveness of targeted marketing campaigns based on the findings and monitor coupon acceptance rates over time to optimize strategies.\n",
        "\n",
        "These findings provide insights into the acceptance patterns of coffee house coupons and offer actionable recommendations for businesses to enhance their coupon marketing strategies and improve customer engagement."
      ],
      "metadata": {
        "id": "_frXqtcO_Ojs"
      }
    }
  ],
  "metadata": {
    "kernelspec": {
      "display_name": "Python 3",
      "language": "python",
      "name": "python3"
    },
    "language_info": {
      "codemirror_mode": {
        "name": "ipython",
        "version": 3
      },
      "file_extension": ".py",
      "mimetype": "text/x-python",
      "name": "python",
      "nbconvert_exporter": "python",
      "pygments_lexer": "ipython3",
      "version": "3.8.8"
    },
    "colab": {
      "provenance": [],
      "include_colab_link": true
    }
  },
  "nbformat": 4,
  "nbformat_minor": 0
}